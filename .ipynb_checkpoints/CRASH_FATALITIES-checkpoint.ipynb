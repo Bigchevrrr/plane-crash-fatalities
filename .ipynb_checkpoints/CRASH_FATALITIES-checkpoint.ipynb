{
 "cells": [
  {
   "cell_type": "markdown",
   "id": "2e94a090",
   "metadata": {},
   "source": [
    "<h2 style = \"color: red;font-size:27px;text-align:center\">DETERMINING THE POSSIBILITY OF FATALITIES IN A PLANE CRASH</h2>"
   ]
  },
  {
   "cell_type": "markdown",
   "id": "13db6a7c",
   "metadata": {},
   "source": [
    "## Sheriff Ayobami Nas'r(2023)"
   ]
  },
  {
   "cell_type": "markdown",
   "id": "aa25e800",
   "metadata": {},
   "source": [
    "<img src=\"Media/crashpic.jpg\" alt=\"#\">"
   ]
  },
  {
   "cell_type": "markdown",
   "id": "a8952bfa",
   "metadata": {},
   "source": [
    "## 1.0 INTRODUCTION"
   ]
  },
  {
   "cell_type": "markdown",
   "id": "01fb6323",
   "metadata": {},
   "source": [
    "A plane crash refers to an event where an aircraft, whether it's a commercial airliner, private plane, or military aircraft, experiences a loss of control resulting in a sudden impact with the ground or water, often causing significant damage or fatalities. These incidents can occur due to a myriad of factors, typically not a singular cause but a chain of events or a combination of factors.\n",
    "\n",
    "Mechanical failures, such as engine problems, structural issues, or equipment malfunction, can lead to a crash. Adverse weather conditions like storms, fog, or strong winds may impair visibility or cause turbulence, contributing to accidents. Human error, encompassing pilot mistakes, miscommunication, fatigue, or errors in judgment, remains a major factor in many crashes.\n",
    "\n",
    "Additionally, factors such as inadequate maintenance, faulty equipment, air traffic control errors, navigation mistakes, intentional actions like sabotage or terrorism, and even bird strikes can precipitate a crash. The aviation industry continually works on enhancing safety measures through stringent regulations, advanced technology, improved training, and thorough investigations following accidents to identify and rectify weaknesses.\n",
    "\n",
    "Despite these efforts, unexpected circumstances or a combination of factors can lead to tragic plane crashes, underlining the ongoing necessity for constant vigilance, improved safety measures, and advancements in aviation technology and procedures to prevent such disasters.\n",
    "\n",
    "Moreover, in this project, i considered developing a classification system to predict the possibility of fatalities in the next plane crash.\n",
    "I explored the dataset, cleaned it, then turn several classification models to selects the best performing one.\n",
    "\n",
    " At the end of this project, i intend to host it as an API for consumption "
   ]
  },
  {
   "cell_type": "markdown",
   "id": "24b77c3b",
   "metadata": {},
   "source": [
    "## 2.0 Importation of Packages"
   ]
  },
  {
   "cell_type": "code",
   "execution_count": 180,
   "id": "688e8f88",
   "metadata": {},
   "outputs": [],
   "source": [
    "## Data loading and manipulation\n",
    "\n",
    "import pandas as pd\n",
    "import numpy as np\n",
    "import warnings\n",
    "import pickle as pkl\n",
    "warnings.filterwarnings('ignore')\n",
    "from sklearn.preprocessing import OneHotEncoder\n",
    "from sklearn.preprocessing import LabelEncoder\n",
    "\n",
    "## Data visualization\n",
    "import matplotlib.pyplot as plt\n",
    "import seaborn as sns\n",
    "\n",
    "## Data modelling\n",
    "from sklearn.model_selection import train_test_split\n",
    "from sklearn.metrics import mean_absolute_error\n",
    "from sklearn.linear_model import LogisticRegression\n",
    "from sklearn.tree import DecisionTreeClassifier\n",
    "from sklearn.ensemble import RandomForestClassifier\n",
    "from sklearn.svm import SVC\n",
    "from sklearn.neighbors import KNeighborsClassifier\n",
    "from sklearn.metrics import classification_report"
   ]
  },
  {
   "cell_type": "code",
   "execution_count": 135,
   "id": "3c20c6cf",
   "metadata": {},
   "outputs": [],
   "source": [
    "df = pd.read_csv('datasets/Airplane_Crashes.csv')"
   ]
  },
  {
   "cell_type": "markdown",
   "id": "e5db7470",
   "metadata": {},
   "source": [
    "The Airplane crash datasets which shows the record of the plane crashes of a particular company from 1908-2009 was gotten from <a style = \"text-decoration:none; color:red\" href = \"https://www.kaggle.com/datasets/kevindkersey/airplane-crashes-and-fatalities-19082009\">Kaggle</a>"
   ]
  },
  {
   "cell_type": "markdown",
   "id": "f62841da",
   "metadata": {},
   "source": [
    "## 3.0 Exploratory Data Analysis"
   ]
  },
  {
   "cell_type": "markdown",
   "id": "1f45beef",
   "metadata": {},
   "source": [
    "During this project phase, the dataset underwent analysis and investigation to outline its primary characteristics. This process aids in determining the most effective methods to manipulate the dataset for optimal model performance, including leveraging patterns, identifying and addressing anomalies, testing hypotheses, and validating assumptions."
   ]
  },
  {
   "cell_type": "markdown",
   "id": "75368ef3",
   "metadata": {},
   "source": [
    "## 3.1 BRIEF OVERVIEW"
   ]
  },
  {
   "cell_type": "code",
   "execution_count": 181,
   "id": "2ee6530f",
   "metadata": {},
   "outputs": [
    {
     "data": {
      "text/html": [
       "<div>\n",
       "<style scoped>\n",
       "    .dataframe tbody tr th:only-of-type {\n",
       "        vertical-align: middle;\n",
       "    }\n",
       "\n",
       "    .dataframe tbody tr th {\n",
       "        vertical-align: top;\n",
       "    }\n",
       "\n",
       "    .dataframe thead th {\n",
       "        text-align: right;\n",
       "    }\n",
       "</style>\n",
       "<table border=\"1\" class=\"dataframe\">\n",
       "  <thead>\n",
       "    <tr style=\"text-align: right;\">\n",
       "      <th></th>\n",
       "      <th>Date</th>\n",
       "      <th>Time</th>\n",
       "      <th>Location</th>\n",
       "      <th>Operator</th>\n",
       "      <th>Flight #</th>\n",
       "      <th>Route</th>\n",
       "      <th>AC Type</th>\n",
       "      <th>Registration</th>\n",
       "      <th>cn/ln</th>\n",
       "      <th>Aboard</th>\n",
       "      <th>Aboard Passangers</th>\n",
       "      <th>Aboard Crew</th>\n",
       "      <th>Fatalities</th>\n",
       "      <th>Fatalities Passangers</th>\n",
       "      <th>Fatalities Crew</th>\n",
       "      <th>Ground</th>\n",
       "      <th>Summary</th>\n",
       "    </tr>\n",
       "  </thead>\n",
       "  <tbody>\n",
       "    <tr>\n",
       "      <th>0</th>\n",
       "      <td>09/17/1908</td>\n",
       "      <td>17:18</td>\n",
       "      <td>Fort Myer, Virginia</td>\n",
       "      <td>Military - U.S. Army</td>\n",
       "      <td>NaN</td>\n",
       "      <td>Demonstration</td>\n",
       "      <td>Wright Flyer III</td>\n",
       "      <td>NaN</td>\n",
       "      <td>1</td>\n",
       "      <td>2.0</td>\n",
       "      <td>1.0</td>\n",
       "      <td>1.0</td>\n",
       "      <td>1.0</td>\n",
       "      <td>1.0</td>\n",
       "      <td>0.0</td>\n",
       "      <td>0.0</td>\n",
       "      <td>During a demonstration flight, a U.S. Army fly...</td>\n",
       "    </tr>\n",
       "    <tr>\n",
       "      <th>1</th>\n",
       "      <td>09/07/1909</td>\n",
       "      <td>NaN</td>\n",
       "      <td>Juvisy-sur-Orge, France</td>\n",
       "      <td>NaN</td>\n",
       "      <td>NaN</td>\n",
       "      <td>Air show</td>\n",
       "      <td>Wright Byplane</td>\n",
       "      <td>SC1</td>\n",
       "      <td>NaN</td>\n",
       "      <td>1.0</td>\n",
       "      <td>0.0</td>\n",
       "      <td>1.0</td>\n",
       "      <td>1.0</td>\n",
       "      <td>0.0</td>\n",
       "      <td>0.0</td>\n",
       "      <td>0.0</td>\n",
       "      <td>Eugene Lefebvre was the first pilot to ever be...</td>\n",
       "    </tr>\n",
       "    <tr>\n",
       "      <th>2</th>\n",
       "      <td>07/12/1912</td>\n",
       "      <td>06:30</td>\n",
       "      <td>Atlantic City, New Jersey</td>\n",
       "      <td>Military - U.S. Navy</td>\n",
       "      <td>NaN</td>\n",
       "      <td>Test flight</td>\n",
       "      <td>Dirigible</td>\n",
       "      <td>NaN</td>\n",
       "      <td>NaN</td>\n",
       "      <td>5.0</td>\n",
       "      <td>0.0</td>\n",
       "      <td>5.0</td>\n",
       "      <td>5.0</td>\n",
       "      <td>0.0</td>\n",
       "      <td>5.0</td>\n",
       "      <td>0.0</td>\n",
       "      <td>First U.S. dirigible Akron exploded just offsh...</td>\n",
       "    </tr>\n",
       "    <tr>\n",
       "      <th>3</th>\n",
       "      <td>08/06/1913</td>\n",
       "      <td>NaN</td>\n",
       "      <td>Victoria, British Columbia, Canada</td>\n",
       "      <td>Private</td>\n",
       "      <td>NaN</td>\n",
       "      <td>NaN</td>\n",
       "      <td>Curtiss seaplane</td>\n",
       "      <td>NaN</td>\n",
       "      <td>NaN</td>\n",
       "      <td>1.0</td>\n",
       "      <td>0.0</td>\n",
       "      <td>1.0</td>\n",
       "      <td>1.0</td>\n",
       "      <td>0.0</td>\n",
       "      <td>1.0</td>\n",
       "      <td>0.0</td>\n",
       "      <td>The first fatal airplane accident in Canada oc...</td>\n",
       "    </tr>\n",
       "    <tr>\n",
       "      <th>4</th>\n",
       "      <td>09/09/1913</td>\n",
       "      <td>18:30</td>\n",
       "      <td>Over the North Sea</td>\n",
       "      <td>Military - German Navy</td>\n",
       "      <td>NaN</td>\n",
       "      <td>NaN</td>\n",
       "      <td>Zeppelin L-1 (airship)</td>\n",
       "      <td>NaN</td>\n",
       "      <td>NaN</td>\n",
       "      <td>20.0</td>\n",
       "      <td>NaN</td>\n",
       "      <td>NaN</td>\n",
       "      <td>14.0</td>\n",
       "      <td>NaN</td>\n",
       "      <td>NaN</td>\n",
       "      <td>0.0</td>\n",
       "      <td>The airship flew into a thunderstorm and encou...</td>\n",
       "    </tr>\n",
       "    <tr>\n",
       "      <th>5</th>\n",
       "      <td>10/17/1913</td>\n",
       "      <td>10:30</td>\n",
       "      <td>Near Johannisthal, Germany</td>\n",
       "      <td>Military - German Navy</td>\n",
       "      <td>NaN</td>\n",
       "      <td>NaN</td>\n",
       "      <td>Zeppelin L-2 (airship)</td>\n",
       "      <td>NaN</td>\n",
       "      <td>NaN</td>\n",
       "      <td>30.0</td>\n",
       "      <td>NaN</td>\n",
       "      <td>NaN</td>\n",
       "      <td>30.0</td>\n",
       "      <td>NaN</td>\n",
       "      <td>NaN</td>\n",
       "      <td>0.0</td>\n",
       "      <td>Hydrogen gas which was being vented was sucked...</td>\n",
       "    </tr>\n",
       "    <tr>\n",
       "      <th>6</th>\n",
       "      <td>03/05/1915</td>\n",
       "      <td>01:00</td>\n",
       "      <td>Tienen, Belgium</td>\n",
       "      <td>Military - German Navy</td>\n",
       "      <td>NaN</td>\n",
       "      <td>NaN</td>\n",
       "      <td>Zeppelin L-8 (airship)</td>\n",
       "      <td>NaN</td>\n",
       "      <td>NaN</td>\n",
       "      <td>41.0</td>\n",
       "      <td>NaN</td>\n",
       "      <td>NaN</td>\n",
       "      <td>21.0</td>\n",
       "      <td>NaN</td>\n",
       "      <td>NaN</td>\n",
       "      <td>0.0</td>\n",
       "      <td>Crashed into trees while attempting to land af...</td>\n",
       "    </tr>\n",
       "    <tr>\n",
       "      <th>7</th>\n",
       "      <td>09/03/1915</td>\n",
       "      <td>15:20</td>\n",
       "      <td>Off Cuxhaven, Germany</td>\n",
       "      <td>Military - German Navy</td>\n",
       "      <td>NaN</td>\n",
       "      <td>NaN</td>\n",
       "      <td>Zeppelin L-10 (airship)</td>\n",
       "      <td>NaN</td>\n",
       "      <td>NaN</td>\n",
       "      <td>19.0</td>\n",
       "      <td>NaN</td>\n",
       "      <td>NaN</td>\n",
       "      <td>19.0</td>\n",
       "      <td>NaN</td>\n",
       "      <td>NaN</td>\n",
       "      <td>0.0</td>\n",
       "      <td>Exploded and burned near Neuwerk Island,  when...</td>\n",
       "    </tr>\n",
       "    <tr>\n",
       "      <th>8</th>\n",
       "      <td>07/28/1916</td>\n",
       "      <td>NaN</td>\n",
       "      <td>Near Jambol, Bulgeria</td>\n",
       "      <td>Military - German Army</td>\n",
       "      <td>NaN</td>\n",
       "      <td>NaN</td>\n",
       "      <td>Schutte-Lanz S-L-10 (airship)</td>\n",
       "      <td>NaN</td>\n",
       "      <td>NaN</td>\n",
       "      <td>20.0</td>\n",
       "      <td>NaN</td>\n",
       "      <td>NaN</td>\n",
       "      <td>20.0</td>\n",
       "      <td>NaN</td>\n",
       "      <td>NaN</td>\n",
       "      <td>0.0</td>\n",
       "      <td>Crashed near the Black Sea, cause unknown.</td>\n",
       "    </tr>\n",
       "    <tr>\n",
       "      <th>9</th>\n",
       "      <td>09/24/1916</td>\n",
       "      <td>01:00</td>\n",
       "      <td>Billericay, England</td>\n",
       "      <td>Military - German Navy</td>\n",
       "      <td>NaN</td>\n",
       "      <td>NaN</td>\n",
       "      <td>Zeppelin L-32 (airship)</td>\n",
       "      <td>NaN</td>\n",
       "      <td>NaN</td>\n",
       "      <td>22.0</td>\n",
       "      <td>NaN</td>\n",
       "      <td>NaN</td>\n",
       "      <td>22.0</td>\n",
       "      <td>NaN</td>\n",
       "      <td>NaN</td>\n",
       "      <td>0.0</td>\n",
       "      <td>Shot down by British aircraft crashing in flames.</td>\n",
       "    </tr>\n",
       "  </tbody>\n",
       "</table>\n",
       "</div>"
      ],
      "text/plain": [
       "         Date   Time                            Location  \\\n",
       "0  09/17/1908  17:18                 Fort Myer, Virginia   \n",
       "1  09/07/1909    NaN             Juvisy-sur-Orge, France   \n",
       "2  07/12/1912  06:30           Atlantic City, New Jersey   \n",
       "3  08/06/1913    NaN  Victoria, British Columbia, Canada   \n",
       "4  09/09/1913  18:30                  Over the North Sea   \n",
       "5  10/17/1913  10:30          Near Johannisthal, Germany   \n",
       "6  03/05/1915  01:00                     Tienen, Belgium   \n",
       "7  09/03/1915  15:20               Off Cuxhaven, Germany   \n",
       "8  07/28/1916    NaN               Near Jambol, Bulgeria   \n",
       "9  09/24/1916  01:00                 Billericay, England   \n",
       "\n",
       "                 Operator Flight #          Route  \\\n",
       "0    Military - U.S. Army      NaN  Demonstration   \n",
       "1                     NaN      NaN       Air show   \n",
       "2    Military - U.S. Navy      NaN    Test flight   \n",
       "3                 Private      NaN            NaN   \n",
       "4  Military - German Navy      NaN            NaN   \n",
       "5  Military - German Navy      NaN            NaN   \n",
       "6  Military - German Navy      NaN            NaN   \n",
       "7  Military - German Navy      NaN            NaN   \n",
       "8  Military - German Army      NaN            NaN   \n",
       "9  Military - German Navy      NaN            NaN   \n",
       "\n",
       "                         AC Type Registration cn/ln  Aboard  \\\n",
       "0               Wright Flyer III          NaN     1     2.0   \n",
       "1                 Wright Byplane          SC1   NaN     1.0   \n",
       "2                      Dirigible          NaN   NaN     5.0   \n",
       "3               Curtiss seaplane          NaN   NaN     1.0   \n",
       "4         Zeppelin L-1 (airship)          NaN   NaN    20.0   \n",
       "5         Zeppelin L-2 (airship)          NaN   NaN    30.0   \n",
       "6         Zeppelin L-8 (airship)          NaN   NaN    41.0   \n",
       "7        Zeppelin L-10 (airship)          NaN   NaN    19.0   \n",
       "8  Schutte-Lanz S-L-10 (airship)          NaN   NaN    20.0   \n",
       "9        Zeppelin L-32 (airship)          NaN   NaN    22.0   \n",
       "\n",
       "   Aboard Passangers  Aboard Crew  Fatalities  Fatalities Passangers  \\\n",
       "0                1.0          1.0         1.0                    1.0   \n",
       "1                0.0          1.0         1.0                    0.0   \n",
       "2                0.0          5.0         5.0                    0.0   \n",
       "3                0.0          1.0         1.0                    0.0   \n",
       "4                NaN          NaN        14.0                    NaN   \n",
       "5                NaN          NaN        30.0                    NaN   \n",
       "6                NaN          NaN        21.0                    NaN   \n",
       "7                NaN          NaN        19.0                    NaN   \n",
       "8                NaN          NaN        20.0                    NaN   \n",
       "9                NaN          NaN        22.0                    NaN   \n",
       "\n",
       "   Fatalities Crew  Ground                                            Summary  \n",
       "0              0.0     0.0  During a demonstration flight, a U.S. Army fly...  \n",
       "1              0.0     0.0  Eugene Lefebvre was the first pilot to ever be...  \n",
       "2              5.0     0.0  First U.S. dirigible Akron exploded just offsh...  \n",
       "3              1.0     0.0  The first fatal airplane accident in Canada oc...  \n",
       "4              NaN     0.0  The airship flew into a thunderstorm and encou...  \n",
       "5              NaN     0.0  Hydrogen gas which was being vented was sucked...  \n",
       "6              NaN     0.0  Crashed into trees while attempting to land af...  \n",
       "7              NaN     0.0  Exploded and burned near Neuwerk Island,  when...  \n",
       "8              NaN     0.0         Crashed near the Black Sea, cause unknown.  \n",
       "9              NaN     0.0  Shot down by British aircraft crashing in flames.  "
      ]
     },
     "execution_count": 181,
     "metadata": {},
     "output_type": "execute_result"
    }
   ],
   "source": [
    "df.head(10)"
   ]
  },
  {
   "cell_type": "code",
   "execution_count": 137,
   "id": "07faca72",
   "metadata": {},
   "outputs": [
    {
     "data": {
      "text/plain": [
       "<bound method NDFrame.describe of             Date   Time                            Location  \\\n",
       "0     09/17/1908  17:18                 Fort Myer, Virginia   \n",
       "1     09/07/1909    NaN             Juvisy-sur-Orge, France   \n",
       "2     07/12/1912  06:30           Atlantic City, New Jersey   \n",
       "3     08/06/1913    NaN  Victoria, British Columbia, Canada   \n",
       "4     09/09/1913  18:30                  Over the North Sea   \n",
       "...          ...    ...                                 ...   \n",
       "4962  04/16/2019  11:00                 Puerto Montt, Chile   \n",
       "4963  05/05/2019  18:30               Near Monclava, Mexico   \n",
       "4964  05/05/2019  18:30                      Moscow, Russia   \n",
       "4965  06/03/2019  13:00                    Near Lipo, India   \n",
       "4966  07/30/2019  02:00                   Rawalpindi, India   \n",
       "\n",
       "                                     Operator Flight #  \\\n",
       "0                        Military - U.S. Army      NaN   \n",
       "1                                         NaN      NaN   \n",
       "2                        Military - U.S. Navy      NaN   \n",
       "3                                     Private      NaN   \n",
       "4                      Military - German Navy      NaN   \n",
       "...                                       ...      ...   \n",
       "4962              Archipelagos Service Aereos      NaN   \n",
       "4963                  TVPX Aircraft Solutions      NaN   \n",
       "4964  Aeroflot Russian International Airlines      NaN   \n",
       "4965              Military - Indian Air Force      NaN   \n",
       "4966                 Military - Pakistan Army      NaN   \n",
       "\n",
       "                          Route                                   AC Type  \\\n",
       "0                 Demonstration                          Wright Flyer III   \n",
       "1                      Air show                            Wright Byplane   \n",
       "2                   Test flight                                 Dirigible   \n",
       "3                           NaN                          Curtiss seaplane   \n",
       "4                           NaN                    Zeppelin L-1 (airship)   \n",
       "...                         ...                                       ...   \n",
       "4962     Puerto Montt - Ayacara  Pilatus-Britten Norman BN-2B-27 Islander   \n",
       "4963      Las Vegas - Monterrey           Canadair CL-600-2B16-Challenger   \n",
       "4964          Moscow - Murmansk                   Sukhoi Superjet-100-95B   \n",
       "4965   Jorhat-Rowriah - Mechuka                             Antonov An-32   \n",
       "4966                   Training                  Beechcraft B300 King Air   \n",
       "\n",
       "     Registration  cn/ln  Aboard  Aboard Passangers  Aboard Crew  Fatalities  \\\n",
       "0             NaN      1     2.0                1.0          1.0         1.0   \n",
       "1             SC1    NaN     1.0                0.0          1.0         1.0   \n",
       "2             NaN    NaN     5.0                0.0          5.0         5.0   \n",
       "3             NaN    NaN     1.0                0.0          1.0         1.0   \n",
       "4             NaN    NaN    20.0                NaN          NaN        14.0   \n",
       "...           ...    ...     ...                ...          ...         ...   \n",
       "4962      CC-CYR    2169     6.0                5.0          1.0         6.0   \n",
       "4963       N601VH   5043    13.0               11.0          2.0        13.0   \n",
       "4964    RA-89098   95135    78.0               73.0          5.0        41.0   \n",
       "4965        K2752   1009    13.0                5.0          8.0        13.0   \n",
       "4966          766   B766     5.0                0.0          5.0         5.0   \n",
       "\n",
       "      Fatalities Passangers  Fatalities Crew  Ground  \\\n",
       "0                       1.0              0.0     0.0   \n",
       "1                       0.0              0.0     0.0   \n",
       "2                       0.0              5.0     0.0   \n",
       "3                       0.0              1.0     0.0   \n",
       "4                       NaN              NaN     0.0   \n",
       "...                     ...              ...     ...   \n",
       "4962                    5.0              1.0     0.0   \n",
       "4963                   11.0              2.0     0.0   \n",
       "4964                   40.0              1.0     0.0   \n",
       "4965                    5.0              8.0     0.0   \n",
       "4966                    0.0              5.0    14.0   \n",
       "\n",
       "                                                Summary  \n",
       "0     During a demonstration flight, a U.S. Army fly...  \n",
       "1     Eugene Lefebvre was the first pilot to ever be...  \n",
       "2     First U.S. dirigible Akron exploded just offsh...  \n",
       "3     The first fatal airplane accident in Canada oc...  \n",
       "4     The airship flew into a thunderstorm and encou...  \n",
       "...                                                 ...  \n",
       "4962  While the aircraft was in the initial climb, p...  \n",
       "4963  The aircraft crashed while en route on a retur...  \n",
       "4964  Forty-five minutes after taking off from Mosco...  \n",
       "4965                 Crashed about 34km WNW of Mechuka.  \n",
       "4966  The Pakistani military plane, on a training fl...  \n",
       "\n",
       "[4967 rows x 17 columns]>"
      ]
     },
     "execution_count": 137,
     "metadata": {},
     "output_type": "execute_result"
    }
   ],
   "source": [
    "df.describe"
   ]
  },
  {
   "cell_type": "code",
   "execution_count": 138,
   "id": "19a35ddf",
   "metadata": {},
   "outputs": [
    {
     "data": {
      "text/plain": [
       "count           4967\n",
       "unique          4539\n",
       "top       08/31/1988\n",
       "freq               4\n",
       "Name: Date, dtype: object"
      ]
     },
     "execution_count": 138,
     "metadata": {},
     "output_type": "execute_result"
    }
   ],
   "source": [
    "df['Date'].describe()"
   ]
  },
  {
   "cell_type": "code",
   "execution_count": 139,
   "id": "0f6f96cb",
   "metadata": {},
   "outputs": [
    {
     "name": "stdout",
     "output_type": "stream",
     "text": [
      "<class 'pandas.core.frame.DataFrame'>\n",
      "RangeIndex: 4967 entries, 0 to 4966\n",
      "Data columns (total 17 columns):\n",
      " #   Column                 Non-Null Count  Dtype  \n",
      "---  ------                 --------------  -----  \n",
      " 0   Date                   4967 non-null   object \n",
      " 1   Time                   3457 non-null   object \n",
      " 2   Location               4963 non-null   object \n",
      " 3   Operator               4957 non-null   object \n",
      " 4   Flight #               1315 non-null   object \n",
      " 5   Route                  4192 non-null   object \n",
      " 6   AC Type                4952 non-null   object \n",
      " 7   Registration           4694 non-null   object \n",
      " 8   cn/ln                  4299 non-null   object \n",
      " 9   Aboard                 4949 non-null   float64\n",
      " 10  Aboard Passangers      4738 non-null   float64\n",
      " 11  Aboard Crew            4741 non-null   float64\n",
      " 12  Fatalities             4959 non-null   float64\n",
      " 13  Fatalities Passangers  4725 non-null   float64\n",
      " 14  Fatalities Crew        4726 non-null   float64\n",
      " 15  Ground                 4926 non-null   float64\n",
      " 16  Summary                4903 non-null   object \n",
      "dtypes: float64(7), object(10)\n",
      "memory usage: 659.8+ KB\n"
     ]
    }
   ],
   "source": [
    "df.info()"
   ]
  },
  {
   "cell_type": "markdown",
   "id": "e36f6a7a",
   "metadata": {},
   "source": [
    "### Observation: \n",
    "The datasets has 16 columns with 4966 entries. It contains both floats and objects. considering the available variables, Fatalities is a target variable."
   ]
  },
  {
   "cell_type": "markdown",
   "id": "9004fdb5",
   "metadata": {},
   "source": [
    "### 3.2 Suggestions for preprocessing:\n",
    "\"Summary\" as a column will be dropped because it is only a short note. "
   ]
  },
  {
   "cell_type": "code",
   "execution_count": 140,
   "id": "9f99f7fa",
   "metadata": {},
   "outputs": [],
   "source": [
    "df2 = df.drop(['Summary'],axis = 1)"
   ]
  },
  {
   "cell_type": "code",
   "execution_count": 141,
   "id": "9e66a7a1",
   "metadata": {},
   "outputs": [
    {
     "name": "stdout",
     "output_type": "stream",
     "text": [
      "<class 'pandas.core.frame.DataFrame'>\n",
      "RangeIndex: 4967 entries, 0 to 4966\n",
      "Data columns (total 16 columns):\n",
      " #   Column                 Non-Null Count  Dtype  \n",
      "---  ------                 --------------  -----  \n",
      " 0   Date                   4967 non-null   object \n",
      " 1   Time                   3457 non-null   object \n",
      " 2   Location               4963 non-null   object \n",
      " 3   Operator               4957 non-null   object \n",
      " 4   Flight #               1315 non-null   object \n",
      " 5   Route                  4192 non-null   object \n",
      " 6   AC Type                4952 non-null   object \n",
      " 7   Registration           4694 non-null   object \n",
      " 8   cn/ln                  4299 non-null   object \n",
      " 9   Aboard                 4949 non-null   float64\n",
      " 10  Aboard Passangers      4738 non-null   float64\n",
      " 11  Aboard Crew            4741 non-null   float64\n",
      " 12  Fatalities             4959 non-null   float64\n",
      " 13  Fatalities Passangers  4725 non-null   float64\n",
      " 14  Fatalities Crew        4726 non-null   float64\n",
      " 15  Ground                 4926 non-null   float64\n",
      "dtypes: float64(7), object(9)\n",
      "memory usage: 621.0+ KB\n"
     ]
    }
   ],
   "source": [
    "df2.info()"
   ]
  },
  {
   "cell_type": "markdown",
   "id": "9bcb0306",
   "metadata": {},
   "source": [
    "## In this phase of the project, I will be filling the NA as almost all columns entries are missing "
   ]
  },
  {
   "cell_type": "markdown",
   "id": "3c5f7437",
   "metadata": {},
   "source": [
    "3.3 HANDLING OF NA"
   ]
  },
  {
   "cell_type": "code",
   "execution_count": 142,
   "id": "13b3919c",
   "metadata": {},
   "outputs": [],
   "source": [
    "df2['Time'] = df2['Time'].fillna(df2['Time'].mode()[0])"
   ]
  },
  {
   "cell_type": "code",
   "execution_count": 143,
   "id": "d61ce23d",
   "metadata": {},
   "outputs": [],
   "source": [
    "df2['Ground'] = df2['Ground'].fillna(df2['Ground'].mode()[0])"
   ]
  },
  {
   "cell_type": "code",
   "execution_count": 144,
   "id": "aecc9127",
   "metadata": {},
   "outputs": [],
   "source": [
    "df2['Location'] = df2['Location'].fillna(df2['Location'].mode()[0])"
   ]
  },
  {
   "cell_type": "code",
   "execution_count": 145,
   "id": "a9a21890",
   "metadata": {},
   "outputs": [],
   "source": [
    "df2['Operator'] = df2['Operator'].fillna(df2['Operator'].mode()[0])"
   ]
  },
  {
   "cell_type": "code",
   "execution_count": 146,
   "id": "3f8de816",
   "metadata": {},
   "outputs": [],
   "source": [
    "df2['Flight #'] = df2['Flight #'].fillna(df2['Flight #'].mode()[0])"
   ]
  },
  {
   "cell_type": "code",
   "execution_count": 147,
   "id": "3bc73394",
   "metadata": {},
   "outputs": [],
   "source": [
    "df2['Route'] = df2['Route'].fillna(df2['Route'].mode()[0])"
   ]
  },
  {
   "cell_type": "code",
   "execution_count": 148,
   "id": "5c3af57f",
   "metadata": {},
   "outputs": [],
   "source": [
    "df2['AC Type'] = df2['AC Type'].fillna(df2['AC Type'].mode()[0])"
   ]
  },
  {
   "cell_type": "code",
   "execution_count": 149,
   "id": "6947c519",
   "metadata": {},
   "outputs": [],
   "source": [
    "df2['Registration'] = df2['Registration'].fillna(df2['Registration'].mode()[0])"
   ]
  },
  {
   "cell_type": "code",
   "execution_count": 150,
   "id": "7cc52ccf",
   "metadata": {},
   "outputs": [],
   "source": [
    "df2['cn/ln'] = df2['cn/ln'].fillna(df2['cn/ln'].mode()[0])"
   ]
  },
  {
   "cell_type": "code",
   "execution_count": 151,
   "id": "4988e7b7",
   "metadata": {},
   "outputs": [],
   "source": [
    "df2['Aboard'] = df2['Aboard'].fillna(df2['Aboard'].mode()[0])"
   ]
  },
  {
   "cell_type": "code",
   "execution_count": 152,
   "id": "f17a196f",
   "metadata": {},
   "outputs": [],
   "source": [
    "df2['Aboard Passangers'] = df2['Aboard Passangers'].fillna(df2['Aboard Passangers'].mode()[0])"
   ]
  },
  {
   "cell_type": "code",
   "execution_count": 153,
   "id": "2f1796c3",
   "metadata": {},
   "outputs": [],
   "source": [
    "df2['Aboard Crew'] = df2['Aboard Crew'].fillna(df2['Aboard Crew'].mode()[0])"
   ]
  },
  {
   "cell_type": "code",
   "execution_count": 154,
   "id": "c69f21b0",
   "metadata": {},
   "outputs": [],
   "source": [
    "df2['Fatalities'] = df2['Fatalities'].fillna(df2['Fatalities'].mode()[0])"
   ]
  },
  {
   "cell_type": "code",
   "execution_count": 155,
   "id": "b5caa990",
   "metadata": {},
   "outputs": [],
   "source": [
    "df2['Fatalities Passangers'] = df2['Fatalities Passangers'].fillna(df2['Fatalities Passangers'].mode()[0])"
   ]
  },
  {
   "cell_type": "code",
   "execution_count": 156,
   "id": "83d71dbc",
   "metadata": {},
   "outputs": [],
   "source": [
    "df2['Fatalities Crew'] = df2['Fatalities Crew'].fillna(df2['Fatalities Crew'].mode()[0])"
   ]
  },
  {
   "cell_type": "code",
   "execution_count": 157,
   "id": "43040fe0",
   "metadata": {},
   "outputs": [
    {
     "name": "stdout",
     "output_type": "stream",
     "text": [
      "<class 'pandas.core.frame.DataFrame'>\n",
      "RangeIndex: 4967 entries, 0 to 4966\n",
      "Data columns (total 16 columns):\n",
      " #   Column                 Non-Null Count  Dtype  \n",
      "---  ------                 --------------  -----  \n",
      " 0   Date                   4967 non-null   object \n",
      " 1   Time                   4967 non-null   object \n",
      " 2   Location               4967 non-null   object \n",
      " 3   Operator               4967 non-null   object \n",
      " 4   Flight #               4967 non-null   object \n",
      " 5   Route                  4967 non-null   object \n",
      " 6   AC Type                4967 non-null   object \n",
      " 7   Registration           4967 non-null   object \n",
      " 8   cn/ln                  4967 non-null   object \n",
      " 9   Aboard                 4967 non-null   float64\n",
      " 10  Aboard Passangers      4967 non-null   float64\n",
      " 11  Aboard Crew            4967 non-null   float64\n",
      " 12  Fatalities             4967 non-null   float64\n",
      " 13  Fatalities Passangers  4967 non-null   float64\n",
      " 14  Fatalities Crew        4967 non-null   float64\n",
      " 15  Ground                 4967 non-null   float64\n",
      "dtypes: float64(7), object(9)\n",
      "memory usage: 621.0+ KB\n"
     ]
    }
   ],
   "source": [
    "df2.info()"
   ]
  },
  {
   "cell_type": "markdown",
   "id": "2594f583",
   "metadata": {},
   "source": [
    "### 3.4 In this phase of the project, i will be handling the objects; converting them to floats and integer for proper pictoral represention and modeling"
   ]
  },
  {
   "cell_type": "code",
   "execution_count": 158,
   "id": "3119a812",
   "metadata": {},
   "outputs": [],
   "source": [
    "categories = df2.select_dtypes(include=('object')).columns"
   ]
  },
  {
   "cell_type": "code",
   "execution_count": 159,
   "id": "98aafe4c",
   "metadata": {},
   "outputs": [
    {
     "data": {
      "text/plain": [
       "Index(['Date', 'Time', 'Location', 'Operator', 'Flight #', 'Route', 'AC Type',\n",
       "       'Registration', 'cn/ln'],\n",
       "      dtype='object')"
      ]
     },
     "execution_count": 159,
     "metadata": {},
     "output_type": "execute_result"
    }
   ],
   "source": [
    "categories"
   ]
  },
  {
   "cell_type": "code",
   "execution_count": 160,
   "id": "c7e612f9",
   "metadata": {},
   "outputs": [],
   "source": [
    "encoder = LabelEncoder()"
   ]
  },
  {
   "cell_type": "code",
   "execution_count": 161,
   "id": "cfaa03cc",
   "metadata": {},
   "outputs": [],
   "source": [
    "df2['Time'] = encoder.fit_transform(df2['Time'])"
   ]
  },
  {
   "cell_type": "code",
   "execution_count": 162,
   "id": "9f376323",
   "metadata": {},
   "outputs": [],
   "source": [
    "df2['Date'] = encoder.fit_transform(df2['Date'])"
   ]
  },
  {
   "cell_type": "code",
   "execution_count": 163,
   "id": "5358e62c",
   "metadata": {},
   "outputs": [],
   "source": [
    "df2['Location'] = encoder.fit_transform(df2['Location'])"
   ]
  },
  {
   "cell_type": "code",
   "execution_count": 164,
   "id": "f4ce14e7",
   "metadata": {},
   "outputs": [],
   "source": [
    "df2['Operator'] = encoder.fit_transform(df2['Operator'])"
   ]
  },
  {
   "cell_type": "code",
   "execution_count": 165,
   "id": "f5bf114f",
   "metadata": {},
   "outputs": [],
   "source": [
    "df2['Flight #'] = encoder.fit_transform(df2['Flight #'])"
   ]
  },
  {
   "cell_type": "code",
   "execution_count": 166,
   "id": "cfc9ef61",
   "metadata": {},
   "outputs": [],
   "source": [
    "df2['AC Type'] = encoder.fit_transform(df2['AC Type'])"
   ]
  },
  {
   "cell_type": "code",
   "execution_count": 167,
   "id": "9391a453",
   "metadata": {},
   "outputs": [],
   "source": [
    "df2['Route'] = encoder.fit_transform(df2['Route'])"
   ]
  },
  {
   "cell_type": "code",
   "execution_count": 168,
   "id": "771a18d9",
   "metadata": {},
   "outputs": [],
   "source": [
    "df2['Registration'] = encoder.fit_transform(df2['Registration'])"
   ]
  },
  {
   "cell_type": "code",
   "execution_count": 170,
   "id": "f4380ae9",
   "metadata": {},
   "outputs": [],
   "source": [
    "df2['cn/ln'] = encoder.fit_transform(df2['cn/ln'])"
   ]
  },
  {
   "cell_type": "code",
   "execution_count": 171,
   "id": "fa334d12",
   "metadata": {},
   "outputs": [
    {
     "name": "stdout",
     "output_type": "stream",
     "text": [
      "<class 'pandas.core.frame.DataFrame'>\n",
      "RangeIndex: 4967 entries, 0 to 4966\n",
      "Data columns (total 16 columns):\n",
      " #   Column                 Non-Null Count  Dtype  \n",
      "---  ------                 --------------  -----  \n",
      " 0   Date                   4967 non-null   int32  \n",
      " 1   Time                   4967 non-null   int32  \n",
      " 2   Location               4967 non-null   int32  \n",
      " 3   Operator               4967 non-null   int64  \n",
      " 4   Flight #               4967 non-null   int32  \n",
      " 5   Route                  4967 non-null   int32  \n",
      " 6   AC Type                4967 non-null   int32  \n",
      " 7   Registration           4967 non-null   int32  \n",
      " 8   cn/ln                  4967 non-null   int32  \n",
      " 9   Aboard                 4967 non-null   float64\n",
      " 10  Aboard Passangers      4967 non-null   float64\n",
      " 11  Aboard Crew            4967 non-null   float64\n",
      " 12  Fatalities             4967 non-null   float64\n",
      " 13  Fatalities Passangers  4967 non-null   float64\n",
      " 14  Fatalities Crew        4967 non-null   float64\n",
      " 15  Ground                 4967 non-null   float64\n",
      "dtypes: float64(7), int32(8), int64(1)\n",
      "memory usage: 465.8 KB\n"
     ]
    }
   ],
   "source": [
    "df2.info()"
   ]
  },
  {
   "cell_type": "markdown",
   "id": "cffc1c6b",
   "metadata": {},
   "source": [
    "## 3.5 Target Variable"
   ]
  },
  {
   "cell_type": "markdown",
   "id": "507a3c4c",
   "metadata": {},
   "source": [
    "In this level of EDA, the target variable is visualized to know how each of the variable is visualized."
   ]
  },
  {
   "cell_type": "code",
   "execution_count": 179,
   "id": "f8a75865",
   "metadata": {},
   "outputs": [
    {
     "data": {
      "text/plain": [
       "<Axes: xlabel='Fatalities'>"
      ]
     },
     "execution_count": 179,
     "metadata": {},
     "output_type": "execute_result"
    },
    {
     "data": {
      "image/png": "[encoded data removed]",
      "text/plain": [
       "<Figure size 640x480 with 1 Axes>"
      ]
     },
     "metadata": {},
     "output_type": "display_data"
    }
   ],
   "source": [
    "plt.xticks(rotation=90)\n",
    "plt.suptitle('Distribution of fatalities' , size = 16, y = 0.99)\n",
    "sns.boxplot(x ='Fatalities', data =df2)"
   ]
  },
  {
   "cell_type": "markdown",
   "id": "afb8f3b3",
   "metadata": {},
   "source": [
    "### Observation: The data is evenly distributed."
   ]
  },
  {
   "cell_type": "markdown",
   "id": "8e23012a",
   "metadata": {},
   "source": [
    "## 3.6 Predictor Variable"
   ]
  },
  {
   "cell_type": "code",
   "execution_count": null,
   "id": "73bca43c",
   "metadata": {},
   "outputs": [],
   "source": [
    "fig, axes = plt.subplots(3,3,  figsize=(12,10))\n",
    "fig.subplots_adjust(hspace=0.5, wspace=0.2)\n",
    "fig.suptitle('DISTRIBUTION OF PREDICTORS IN THE DATASET', size = 16, y=0.94);\n",
    "\n",
    "sns.distplot(x=df['Nitrogen'], ax=axes[0][0]).set(title = 'Nitrogen', xlabel='Amount')sns.distplot(x=df['Nitrogen'], ax=axes[0][0]).set(title = 'Nitrogen', xlabel='Amount')"
   ]
  }
 ],
 "metadata": {
  "kernelspec": {
   "display_name": "Python 3 (ipykernel)",
   "language": "python",
   "name": "python3"
  },
  "language_info": {
   "codemirror_mode": {
    "name": "ipython",
    "version": 3
   },
   "file_extension": ".py",
   "mimetype": "text/x-python",
   "name": "python",
   "nbconvert_exporter": "python",
   "pygments_lexer": "ipython3",
   "version": "3.8.4"
  }
 },
 "nbformat": 4,
 "nbformat_minor": 5
}
